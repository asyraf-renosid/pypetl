{
 "cells": [
  {
   "cell_type": "markdown",
   "metadata": {},
   "source": [
    "## PyPETL"
   ]
  },
  {
   "cell_type": "markdown",
   "metadata": {},
   "source": [
    "### Start Core Engine"
   ]
  },
  {
   "cell_type": "code",
   "execution_count": 1,
   "metadata": {},
   "outputs": [
    {
     "name": "stdout",
     "output_type": "stream",
     "text": [
      "2022-08-24 11:47:25 >  pypetl.core.preference: Loaded!\n",
      "2022-08-24 11:47:25 >  pypetl.core.aws.getSecretAll(): Starting...\n",
      "2022-08-24 11:47:25 >     pypetl.core.aws.getSecret(renos-db-rds-staging-data, rds): Starting...\n",
      "2022-08-24 11:47:25 >        pypetl.core.aws.validateSecretEngine(postgres): Validating...\n",
      "2022-08-24 11:47:25 >        pypetl.core.aws.validateSecretEngine(postgres): Validated as database!\n",
      "2022-08-24 11:47:25 >     pypetl.core.aws.getSecret(renos-db-rds-staging-data, rds): Done!\n",
      "2022-08-24 11:47:25 >     pypetl.core.aws.getSecret(renos-wh-redshift-data, redshift): Starting...\n",
      "2022-08-24 11:47:26 >        pypetl.core.aws.validateSecretEngine(redshift): Validating...\n",
      "2022-08-24 11:47:26 >        pypetl.core.aws.validateSecretEngine(redshift): Validated as database!\n",
      "2022-08-24 11:47:26 >     pypetl.core.aws.getSecret(renos-wh-redshift-data, redshift): Done!\n",
      "2022-08-24 11:47:26 >     pypetl.core.aws.getSecret(renos-data-bastion, bastion): Starting...\n",
      "2022-08-24 11:47:26 >        pypetl.core.aws.validateSecretEngine(ssh): Validating...\n",
      "2022-08-24 11:47:26 >        pypetl.core.aws.validateSecretEngine(ssh): Validated as ssh!\n",
      "2022-08-24 11:47:26 >     pypetl.core.aws.getSecret(renos-data-bastion, bastion): Done!\n",
      "2022-08-24 11:47:26 >  pypetl.core.aws.getSecretAll(): Done!\n",
      "2022-08-24 11:47:26 >  pypetl.engine.start(): Starting...\n",
      "2022-08-24 11:47:26 >     pypetl.core.connection.startSSHAll(): Starting...\n",
      "2022-08-24 11:47:26 >        pypetl.core.connection.startSSHFromSecret(bastion): Starting...\n",
      "2022-08-24 11:47:26 >           pypetl.core.connection.mergeRemoteAddress(['rds', 'redshift']): Merging multiple remote addresses...\n",
      "2022-08-24 11:47:26 >           pypetl.core.connection.mergeRemoteAddress(['rds', 'redshift']): Merged!\n",
      "2022-08-24 11:47:26 >           pypetl.core.connection.startSSH(ec2-54-251-208-105.ap-southeast-1.compute.amazonaws.com, 22, [('renos-v2-staging-rds.cssnfgwcjwmm.ap-southeast-1.rds.amazonaws.com', 5432), ('renos-wh.ciju13xeq9ht.ap-southeast-1.redshift.amazonaws.com', 5439)]): Starting...\n",
      "2022-08-24 11:47:26 >              pypetl.core.connection.generateTunnelForwarder(ec2-54-251-208-105.ap-southeast-1.compute.amazonaws.com, 22, [('renos-v2-staging-rds.cssnfgwcjwmm.ap-southeast-1.rds.amazonaws.com', 5432), ('renos-wh.ciju13xeq9ht.ap-southeast-1.redshift.amazonaws.com', 5439)]): Generating SSH tunnel forwarder...\n",
      "2022-08-24 11:47:26 >                 pypetl.core.connection.generateRSAKey(): Generating RSA key...\n",
      "2022-08-24 11:47:26 >                 pypetl.core.connection.generateRSAKey(): Generated!\n",
      "2022-08-24 11:47:26 >              pypetl.core.connection.generateTunnelForwarder(ec2-54-251-208-105.ap-southeast-1.compute.amazonaws.com, 22, [('renos-v2-staging-rds.cssnfgwcjwmm.ap-southeast-1.rds.amazonaws.com', 5432), ('renos-wh.ciju13xeq9ht.ap-southeast-1.redshift.amazonaws.com', 5439)]): Generated!\n",
      "2022-08-24 11:47:34 >           pypetl.core.connection.startSSH(ec2-54-251-208-105.ap-southeast-1.compute.amazonaws.com, 22, [('renos-v2-staging-rds.cssnfgwcjwmm.ap-southeast-1.rds.amazonaws.com', 5432), ('renos-wh.ciju13xeq9ht.ap-southeast-1.redshift.amazonaws.com', 5439)]): Started!\n",
      "2022-08-24 11:47:34 >           pypetl.core.connection.extractLocalAddress(): Extracting binded local addresses...\n",
      "2022-08-24 11:47:34 >           pypetl.core.connection.extractLocalAddress(): Extracted!\n",
      "2022-08-24 11:47:34 >        pypetl.core.connection.startSSHFromSecret(bastion): Started!\n",
      "2022-08-24 11:47:34 >     pypetl.core.connection.startSSHAll(): Started!\n",
      "2022-08-24 11:47:34 >     pypetl.core.connection.startDBAll(): Starting...\n",
      "2022-08-24 11:47:34 >        pypetl.core.connection.startDBFromSecret(rds): Starting...\n",
      "2022-08-24 11:47:34 >           pypetl.core.connection.startDB(postgres, 0.0.0.0, 41099, renosdb): Starting database session...\n",
      "2022-08-24 11:47:34 >           pypetl.core.connection.startDB(postgres, 0.0.0.0, 41099, renosdb): Started!\n",
      "2022-08-24 11:47:34 >        pypetl.core.connection.startDBFromSecret(rds): Started!\n",
      "2022-08-24 11:47:34 >        pypetl.core.connection.startDBFromSecret(redshift): Starting...\n",
      "2022-08-24 11:47:34 >           pypetl.core.connection.startDB(redshift, 0.0.0.0, 33955, renoswh_dev): Starting database session...\n",
      "2022-08-24 11:47:35 >           pypetl.core.connection.startDB(redshift, 0.0.0.0, 33955, renoswh_dev): Started!\n",
      "2022-08-24 11:47:35 >        pypetl.core.connection.startDBFromSecret(redshift): Started!\n",
      "2022-08-24 11:47:35 >     pypetl.core.connection.startDBAll(): Starting...\n",
      "2022-08-24 11:47:35 >  pypetl.engine.start(): Started!\n"
     ]
    }
   ],
   "source": [
    "import pypetl\n",
    "pypetl.engine.start()"
   ]
  },
  {
   "cell_type": "markdown",
   "metadata": {},
   "source": [
    "### Stop Core Engine"
   ]
  },
  {
   "cell_type": "code",
   "execution_count": 2,
   "metadata": {},
   "outputs": [
    {
     "name": "stdout",
     "output_type": "stream",
     "text": [
      "2022-08-24 11:46:38 >  pypetl.engine.stop(): Stopping...\n",
      "2022-08-24 11:46:38 >     pypetl.core.connection.stopDBAll(): Stopping...\n",
      "2022-08-24 11:46:38 >        pypetl.core.connection.stopDBFromSecret(rds): Stopping...\n",
      "2022-08-24 11:46:38 >        pypetl.core.connection.stopDBFromSecret(rds): Stopped!\n",
      "2022-08-24 11:46:38 >        pypetl.core.connection.stopDBFromSecret(redshift): Stopping...\n",
      "2022-08-24 11:46:38 >        pypetl.core.connection.stopDBFromSecret(redshift): Stopped!\n",
      "2022-08-24 11:46:38 >     pypetl.core.connection.stopDBAll(): Stopped!\n",
      "2022-08-24 11:46:38 >     pypetl.core.connection.stopSSHAll(): Stopping...\n",
      "2022-08-24 11:46:38 >        pypetl.core.connection.stopSSHFromSecret(bastion): Stopping...\n",
      "2022-08-24 11:46:39 >        pypetl.core.connection.stopSSHFromSecret(bastion): Stopped!\n",
      "2022-08-24 11:46:39 >     pypetl.core.connection.stopSSHAll(): Stopped!\n",
      "2022-08-24 11:46:39 >  pypetl.engine.stop(): Stopped!\n"
     ]
    }
   ],
   "source": [
    "import pypetl\n",
    "pypetl.engine.stop()"
   ]
  },
  {
   "cell_type": "markdown",
   "metadata": {},
   "source": [
    "## Redshift Database Management"
   ]
  },
  {
   "cell_type": "markdown",
   "metadata": {},
   "source": [
    "### Create new database table"
   ]
  },
  {
   "cell_type": "markdown",
   "metadata": {},
   "source": [
    "#### With auto-increment"
   ]
  },
  {
   "cell_type": "code",
   "execution_count": null,
   "metadata": {},
   "outputs": [],
   "source": [
    "tablename = 'put your table name here'\n",
    "fieldprimarykey = 'put your primary key field here'\n",
    "fieldtype = 'put your desired data type for the field here'\n",
    "\n",
    "pypetl.executeDBSecret('redshift', 'CREATE TABLE IF NOT EXISTS %s ( %s %s NOT NULL identity(1,1) );'%(tablename, fieldprimarykey, fieldtype))"
   ]
  },
  {
   "cell_type": "markdown",
   "metadata": {},
   "source": [
    "#### Without auto-increment"
   ]
  },
  {
   "cell_type": "code",
   "execution_count": null,
   "metadata": {},
   "outputs": [],
   "source": [
    "tablename = 'put your table name here'\n",
    "fieldprimarykey = 'put your primary key field here'\n",
    "fieldtype = 'put your desired data type for the field here'\n",
    "\n",
    "pypetl.executeDBSecret('redshift', 'CREATE TABLE IF NOT EXISTS %s ( %s %s NOT NULL );'%(tablename, fieldprimarykey, fieldtype))"
   ]
  },
  {
   "cell_type": "markdown",
   "metadata": {},
   "source": [
    "### Altering database table "
   ]
  },
  {
   "cell_type": "markdown",
   "metadata": {},
   "source": [
    "#### Add new column"
   ]
  },
  {
   "cell_type": "code",
   "execution_count": null,
   "metadata": {},
   "outputs": [],
   "source": [
    "tablename = 'put your table name here'\n",
    "fieldname = 'put your primary key field here'\n",
    "fieldtype = 'put your desired data type for the field here'\n",
    "\n",
    "pypetl.executeDBSecret('redshift', 'ALTER TABLE %s ADD COLUMN %s %s;'%(tablename, fieldname, fieldtype))"
   ]
  },
  {
   "cell_type": "markdown",
   "metadata": {},
   "source": [
    "### Appendix"
   ]
  },
  {
   "cell_type": "markdown",
   "metadata": {},
   "source": [
    "#### Available data type"
   ]
  },
  {
   "cell_type": "code",
   "execution_count": 2,
   "metadata": {},
   "outputs": [],
   "source": [
    "bigint = 'bigint'\n",
    "integer = 'integer'\n",
    "string = 'varchar(256)'\n",
    "timestamp = 'timestamp'\n",
    "boolean = 'boolean'"
   ]
  }
 ],
 "metadata": {
  "kernelspec": {
   "display_name": "Python 3.8.10 64-bit",
   "language": "python",
   "name": "python3"
  },
  "language_info": {
   "codemirror_mode": {
    "name": "ipython",
    "version": 3
   },
   "file_extension": ".py",
   "mimetype": "text/x-python",
   "name": "python",
   "nbconvert_exporter": "python",
   "pygments_lexer": "ipython3",
   "version": "3.8.10"
  },
  "orig_nbformat": 4,
  "vscode": {
   "interpreter": {
    "hash": "916dbcbb3f70747c44a77c7bcd40155683ae19c65e1c03b4aa3499c5328201f1"
   }
  }
 },
 "nbformat": 4,
 "nbformat_minor": 2
}
