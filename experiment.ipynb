{
 "cells": [
  {
   "cell_type": "code",
   "execution_count": 1,
   "metadata": {},
   "outputs": [
    {
     "name": "stdout",
     "output_type": "stream",
     "text": [
      "2022-08-24 04:28:01 >  pypetl.core.preference: Loaded!\n",
      "2022-08-24 04:28:01 >  pypetl.core.aws.getSecretAll(): Starting...\n",
      "2022-08-24 04:28:01 >     pypetl.core.aws.getSecret(renos-db-rds-staging-data, rds): Starting...\n",
      "2022-08-24 04:28:01 >        pypetl.core.aws.validateSecretEngine(postgres): Validating...\n",
      "2022-08-24 04:28:01 >        pypetl.core.aws.validateSecretEngine(postgres): Validated as database!\n",
      "2022-08-24 04:28:01 >     pypetl.core.aws.getSecret(renos-db-rds-staging-data, rds): Done!\n",
      "2022-08-24 04:28:01 >     pypetl.core.aws.getSecret(renos-wh-redshift-data, redshift): Starting...\n",
      "2022-08-24 04:28:02 >        pypetl.core.aws.validateSecretEngine(redshift): Validating...\n",
      "2022-08-24 04:28:02 >        pypetl.core.aws.validateSecretEngine(redshift): Validated as database!\n",
      "2022-08-24 04:28:02 >     pypetl.core.aws.getSecret(renos-wh-redshift-data, redshift): Done!\n",
      "2022-08-24 04:28:02 >     pypetl.core.aws.getSecret(renos-data-bastion, bastion): Starting...\n",
      "2022-08-24 04:28:02 >        pypetl.core.aws.validateSecretEngine(ssh): Validating...\n",
      "2022-08-24 04:28:02 >        pypetl.core.aws.validateSecretEngine(ssh): Validated as ssh!\n",
      "2022-08-24 04:28:02 >     pypetl.core.aws.getSecret(renos-data-bastion, bastion): Done!\n",
      "2022-08-24 04:28:02 >  pypetl.core.aws.getSecretAll(): Done!\n"
     ]
    }
   ],
   "source": [
    "import pypetl\n",
    "from datetime import datetime, timedelta, date, time"
   ]
  },
  {
   "cell_type": "code",
   "execution_count": 2,
   "metadata": {},
   "outputs": [
    {
     "name": "stdout",
     "output_type": "stream",
     "text": [
      "2022-08-24 04:28:03 >  pypetl.engine.start(): Starting...\n",
      "2022-08-24 04:28:03 >     pypetl.core.connection.startSSHAll(): Starting...\n",
      "2022-08-24 04:28:03 >        pypetl.core.connection.startSSHFromSecret(bastion): Starting...\n",
      "2022-08-24 04:28:03 >           pypetl.core.connection.mergeRemoteAddress(['rds', 'redshift']): Merging multiple remote addresses...\n",
      "2022-08-24 04:28:03 >           pypetl.core.connection.mergeRemoteAddress(['rds', 'redshift']): Merged!\n",
      "2022-08-24 04:28:03 >           pypetl.core.connection.startSSH(ec2-54-251-208-105.ap-southeast-1.compute.amazonaws.com, 22, [('renos-v2-staging-rds.cssnfgwcjwmm.ap-southeast-1.rds.amazonaws.com', 5432), ('renos-wh.ciju13xeq9ht.ap-southeast-1.redshift.amazonaws.com', 5439)]): Starting...\n",
      "2022-08-24 04:28:03 >              pypetl.core.connection.generateTunnelForwarder(ec2-54-251-208-105.ap-southeast-1.compute.amazonaws.com, 22, [('renos-v2-staging-rds.cssnfgwcjwmm.ap-southeast-1.rds.amazonaws.com', 5432), ('renos-wh.ciju13xeq9ht.ap-southeast-1.redshift.amazonaws.com', 5439)]): Generating SSH tunnel forwarder...\n",
      "2022-08-24 04:28:03 >                 pypetl.core.connection.generateRSAKey(): Generating RSA key...\n",
      "2022-08-24 04:28:03 >                 pypetl.core.connection.generateRSAKey(): Generated!\n",
      "2022-08-24 04:28:03 >              pypetl.core.connection.generateTunnelForwarder(ec2-54-251-208-105.ap-southeast-1.compute.amazonaws.com, 22, [('renos-v2-staging-rds.cssnfgwcjwmm.ap-southeast-1.rds.amazonaws.com', 5432), ('renos-wh.ciju13xeq9ht.ap-southeast-1.redshift.amazonaws.com', 5439)]): Generated!\n",
      "2022-08-24 04:28:12 >           pypetl.core.connection.startSSH(ec2-54-251-208-105.ap-southeast-1.compute.amazonaws.com, 22, [('renos-v2-staging-rds.cssnfgwcjwmm.ap-southeast-1.rds.amazonaws.com', 5432), ('renos-wh.ciju13xeq9ht.ap-southeast-1.redshift.amazonaws.com', 5439)]): Started!\n",
      "2022-08-24 04:28:12 >           pypetl.core.connection.extractLocalAddress(): Extracting binded local addresses...\n",
      "2022-08-24 04:28:12 >           pypetl.core.connection.extractLocalAddress(): Extracted!\n",
      "2022-08-24 04:28:12 >        pypetl.core.connection.startSSHFromSecret(bastion): Started!\n",
      "2022-08-24 04:28:12 >     pypetl.core.connection.startSSHAll(): Started!\n",
      "2022-08-24 04:28:12 >     pypetl.core.connection.startDBAll(): Starting...\n",
      "2022-08-24 04:28:12 >        pypetl.core.connection.startDBFromSecret(rds): Starting...\n",
      "2022-08-24 04:28:12 >           pypetl.core.connection.startDB(postgres, 0.0.0.0, 36097, renosdb): Starting database session...\n",
      "2022-08-24 04:28:12 >           pypetl.core.connection.startDB(postgres, 0.0.0.0, 36097, renosdb): Started!\n",
      "2022-08-24 04:28:12 >        pypetl.core.connection.startDBFromSecret(rds): Started!\n",
      "2022-08-24 04:28:12 >        pypetl.core.connection.startDBFromSecret(redshift): Starting...\n",
      "2022-08-24 04:28:12 >           pypetl.core.connection.startDB(redshift, 0.0.0.0, 35109, renoswh_dev): Starting database session...\n",
      "2022-08-24 04:28:13 >           pypetl.core.connection.startDB(redshift, 0.0.0.0, 35109, renoswh_dev): Started!\n",
      "2022-08-24 04:28:13 >        pypetl.core.connection.startDBFromSecret(redshift): Started!\n",
      "2022-08-24 04:28:13 >     pypetl.core.connection.startDBAll(): Starting...\n",
      "2022-08-24 04:28:13 >  pypetl.engine.start(): Started!\n"
     ]
    }
   ],
   "source": [
    "pypetl.engine.start()"
   ]
  },
  {
   "cell_type": "code",
   "execution_count": 8,
   "metadata": {},
   "outputs": [
    {
     "name": "stdout",
     "output_type": "stream",
     "text": [
      "2022-08-23 08:13:36 >  pypetl.engine.stop(): Stopping...\n",
      "2022-08-23 08:13:36 >     pypetl.core.connection.stopDBAll(): Stopping...\n",
      "2022-08-23 08:13:36 >        pypetl.core.connection.stopDBFromSecret(rds): Stopping...\n",
      "2022-08-23 08:13:36 >        pypetl.core.connection.stopDBFromSecret(rds): Stopped!\n",
      "2022-08-23 08:13:36 >        pypetl.core.connection.stopDBFromSecret(redshift): Stopping...\n",
      "2022-08-23 08:13:36 >        pypetl.core.connection.stopDBFromSecret(redshift): Stopped!\n",
      "2022-08-23 08:13:36 >     pypetl.core.connection.stopDBAll(): Stopped!\n",
      "2022-08-23 08:13:36 >     pypetl.core.connection.stopSSHAll(): Stopping...\n",
      "2022-08-23 08:13:36 >        pypetl.core.connection.stopSSHFromSecret(bastion): Stopping...\n",
      "2022-08-23 08:13:37 >        pypetl.core.connection.stopSSHFromSecret(bastion): Stopped!\n",
      "2022-08-23 08:13:37 >     pypetl.core.connection.stopSSHAll(): Stopped!\n",
      "2022-08-23 08:13:37 >  pypetl.engine.stop(): Stopped!\n"
     ]
    }
   ],
   "source": [
    "pypetl.engine.stop()"
   ]
  },
  {
   "cell_type": "markdown",
   "metadata": {},
   "source": [
    "# For Fact"
   ]
  },
  {
   "cell_type": "code",
   "execution_count": 20,
   "metadata": {},
   "outputs": [],
   "source": [
    "tablename = 'rns_payment'\n",
    "select_data = 'payment_id, user_id, payment_channel_id, payment_number, payment_amount, payment_created_date, payment_expired_date, payment_paid_date, payment_api_request, payment_api_response, date_in, user_in, date_up, user_up, status_record, payment_fee'\n",
    "constraint_pk = 'payment_id'\n",
    "source_pk = ''\n",
    "source_date_up = 'date_up'\n",
    "source_date_in = 'date_in'\n",
    "\n",
    "tablename_source = tablename\n",
    "rds = 'public.%s'%(tablename_source)\n",
    "rds_metadata = ''\n",
    "redshift = 'renosdb_fact.%s'%(tablename_source)\n",
    "redshift_metadata = 'renosdb_metadata.%s'%(tablename_source)\n",
    "fname = \"pipeline_fact.%s.run()\"%(tablename_source)\n",
    "select_metadata = 'id, date_in, user_in, referenced_id, referenced_%s, referenced_date_etl'%(constraint_pk)\n",
    "\n",
    "tablename = redshift\n",
    "tablename_metadata = redshift_metadata"
   ]
  },
  {
   "cell_type": "markdown",
   "metadata": {},
   "source": [
    "# For Dimension"
   ]
  },
  {
   "cell_type": "code",
   "execution_count": 51,
   "metadata": {},
   "outputs": [],
   "source": [
    "\n",
    "tablename = 'rns_status'\n",
    "select_data = 'status_id, status_name, date_in, user_in, date_up, user_up, status_record'\n",
    "constraint_pk = 'status_id'\n",
    "source_pk = ''\n",
    "source_date_up = 'date_up'\n",
    "source_date_in = 'date_in'\n",
    "\n",
    "tablename_source = tablename\n",
    "rds = 'public.%s'%(tablename_source)\n",
    "rds_metadata = ''\n",
    "redshift = 'renosdb_dimension.%s'%(tablename_source)\n",
    "redshift_metadata = 'renosdb_metadata.%s'%(tablename_source)\n",
    "fname = \"pipeline_dimension.%s.run()\"%(tablename_source)\n",
    "select_metadata = 'id, date_in, user_in, referenced_id, referenced_%s, referenced_date_etl'%(constraint_pk)\n",
    "\n",
    "tablename = redshift\n",
    "tablename_metadata = redshift_metadata"
   ]
  },
  {
   "cell_type": "markdown",
   "metadata": {},
   "source": [
    "# For All"
   ]
  },
  {
   "cell_type": "code",
   "execution_count": 54,
   "metadata": {},
   "outputs": [],
   "source": [
    "\n",
    "pypetl.executeDBSecret('redshift','CREATE TABLE IF NOT EXISTS %s ( id bigint NOT NULL identity(1,1) );'%(tablename_metadata))\n",
    "pypetl.executeDBSecret('redshift','ALTER TABLE %s ADD COLUMN date_in timestamp;'%(tablename_metadata))\n",
    "pypetl.executeDBSecret('redshift','ALTER TABLE %s ADD COLUMN user_in varchar(256);'%(tablename_metadata))\n",
    "pypetl.executeDBSecret('redshift','ALTER TABLE %s ADD COLUMN referenced_id bigint;'%(tablename_metadata))\n",
    "pypetl.executeDBSecret('redshift','ALTER TABLE %s ADD COLUMN referenced_%s bigint;'%(tablename_metadata, constraint_pk))\n",
    "pypetl.executeDBSecret('redshift','ALTER TABLE %s ADD COLUMN referenced_date_etl timestamp;'%(tablename_metadata))\n",
    "\n",
    "pypetl.executeDBSecret('redshift','CREATE TABLE IF NOT EXISTS %s ( %s bigint NOT NULL );'%(tablename, constraint_pk))\n",
    "pypetl.executeDBSecret('redshift','ALTER TABLE %s ADD COLUMN status_name varchar(256);'%(tablename))\n",
    "pypetl.executeDBSecret('redshift','ALTER TABLE %s ADD COLUMN date_in timestamp;'%(tablename))\n",
    "pypetl.executeDBSecret('redshift','ALTER TABLE %s ADD COLUMN user_in varchar(256);'%(tablename))\n",
    "pypetl.executeDBSecret('redshift','ALTER TABLE %s ADD COLUMN date_up timestamp;'%(tablename))\n",
    "pypetl.executeDBSecret('redshift','ALTER TABLE %s ADD COLUMN user_up varchar(256);'%(tablename))\n",
    "pypetl.executeDBSecret('redshift','ALTER TABLE %s ADD COLUMN status_record varchar(256);'%(tablename))\n",
    "pypetl.executeDBSecret('redshift','ALTER TABLE %s ADD COLUMN date_etl timestamp;'%(tablename))\n",
    "pypetl.executeDBSecret('redshift','ALTER TABLE %s ADD COLUMN referenced_id bigint;'%(tablename))\n",
    "\n",
    "# 'ALTER TABLE %s RENAME COLUMN id to order_status_id'%(tablename)\n",
    "# 'ALTER TABLE %s ADD PRIMARY KEY (id);'%(tablename)\n",
    "\n",
    "# 'ALTER TABLE %s ADD COLUMN user_in varchar(256);'%(tablename_metadata)\n",
    "# 'ALTER TABLE %s ADD COLUMN referenced_id bigint;'%(tablename_metadata)\n",
    "# 'ALTER TABLE %s ADD COLUMN referenced_%s bigint;'%(tablename_metadata, constraint_pk)\n",
    "# 'ALTER TABLE %s ADD COLUMN referenced_date_etl timestamp;'%(tablename_metadata)\n",
    "\n",
    "# 'CREATE TABLE IF NOT EXISTS %s ( %s bigint NOT NULL );'%(tablename, constraint_pk)\n",
    "# BIGINT\n",
    "# 'ALTER TABLE %s ADD COLUMN category_parent_id bigint;'%(tablename)\n",
    "# DECIMAL\n",
    "# 'ALTER TABLE %s ADD COLUMN product_price decimal;'%(tablename)\n",
    "# TIMESTAMP\n",
    "# 'ALTER TABLE %s ADD COLUMN date_up timestamp;'%(tablename)\n",
    "# VARCHAR\n",
    "# 'ALTER TABLE %s ADD COLUMN status_record varchar(256);'%(tablename)\n",
    "# INTEGER\n",
    "# 'ALTER TABLE %s ADD COLUMN is_active integer;'%(tablename)\n",
    "# BOOLEAN\n",
    "# 'ALTER TABLE %s ADD COLUMN is_active boolean;'%(tablename)\n",
    "\n",
    "# 'ALTER TABLE %s ADD COLUMN date_etl timestamp;'%(tablename)\n",
    "# 'ALTER TABLE %s ADD COLUMN referenced_id bigint;'%(tablename)\n",
    "\n",
    "# 'ALTER TABLE %s DROP COLUMN shipping_type_description;'%(tablename)\n",
    "# 'TRUNCATE %s ;'%(tablename)\n",
    "# 'TRUNCATE %s ;'%(tablename_metadata)\n",
    "# 'DROP TABLE %s'%(tablename)\n",
    "\n",
    "# 'ALTER TABLE %s ADD COLUMN product_description text;'%(tablename)\n"
   ]
  },
  {
   "cell_type": "code",
   "execution_count": 52,
   "metadata": {},
   "outputs": [
    {
     "name": "stdout",
     "output_type": "stream",
     "text": [
      "status_id\n",
      "set()\n",
      "status_name\n",
      "set()\n",
      "date_in\n",
      "set()\n",
      "user_in\n",
      "set()\n",
      "date_up\n",
      "set()\n",
      "user_up\n",
      "set()\n",
      "status_record\n",
      "set()\n"
     ]
    }
   ],
   "source": [
    "tmp = pypetl.fromDBSecret('rds', \"SELECT * FROM public.%s LIMIT 5;\"%(tablename_source),\n",
    "    cache=True\n",
    ")\n",
    "for x in tmp.fieldnames():\n",
    "    print(x)\n",
    "    print(tmp.typeset(x))"
   ]
  },
  {
   "cell_type": "code",
   "execution_count": 53,
   "metadata": {},
   "outputs": [
    {
     "name": "stdout",
     "output_type": "stream",
     "text": [
      "+-----------+-------------+---------+---------+---------+---------+---------------+\n",
      "| status_id | status_name | date_in | user_in | date_up | user_up | status_record |\n",
      "+===========+=============+=========+=========+=========+=========+===============+\n",
      "\n"
     ]
    }
   ],
   "source": [
    "tmp = pypetl.fromDBSecret('rds', \"SELECT * FROM public.%s LIMIT 5;\"%(tablename_source),\n",
    "    cache=True\n",
    ")\n",
    "print(tmp)"
   ]
  }
 ],
 "metadata": {
  "kernelspec": {
   "display_name": "Python 3.8.10 64-bit",
   "language": "python",
   "name": "python3"
  },
  "language_info": {
   "codemirror_mode": {
    "name": "ipython",
    "version": 3
   },
   "file_extension": ".py",
   "mimetype": "text/x-python",
   "name": "python",
   "nbconvert_exporter": "python",
   "pygments_lexer": "ipython3",
   "version": "3.8.10"
  },
  "orig_nbformat": 4,
  "vscode": {
   "interpreter": {
    "hash": "916dbcbb3f70747c44a77c7bcd40155683ae19c65e1c03b4aa3499c5328201f1"
   }
  }
 },
 "nbformat": 4,
 "nbformat_minor": 2
}
