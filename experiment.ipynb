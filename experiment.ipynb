{
 "cells": [
  {
   "cell_type": "code",
   "execution_count": 1,
   "metadata": {},
   "outputs": [
    {
     "name": "stdout",
     "output_type": "stream",
     "text": [
      "2022-08-21 19:45:34 >  pypetl.core.preference: Loaded!\n",
      "2022-08-21 19:45:34 >  pypetl.core.aws.getSecretAll(): Starting...\n",
      "2022-08-21 19:45:34 >     pypetl.core.aws.getSecret(renos-db-rds-staging-data, rds): Starting...\n",
      "2022-08-21 19:45:34 >        pypetl.core.aws.validateSecretEngine(postgres): Validating...\n",
      "2022-08-21 19:45:34 >        pypetl.core.aws.validateSecretEngine(postgres): Validated as database!\n",
      "2022-08-21 19:45:34 >     pypetl.core.aws.getSecret(renos-db-rds-staging-data, rds): Done!\n",
      "2022-08-21 19:45:34 >     pypetl.core.aws.getSecret(renos-wh-redshift-data, redshift): Starting...\n",
      "2022-08-21 19:45:35 >        pypetl.core.aws.validateSecretEngine(redshift): Validating...\n",
      "2022-08-21 19:45:35 >        pypetl.core.aws.validateSecretEngine(redshift): Validated as database!\n",
      "2022-08-21 19:45:35 >     pypetl.core.aws.getSecret(renos-wh-redshift-data, redshift): Done!\n",
      "2022-08-21 19:45:35 >     pypetl.core.aws.getSecret(renos-data-bastion, bastion): Starting...\n",
      "2022-08-21 19:45:36 >        pypetl.core.aws.validateSecretEngine(ssh): Validating...\n",
      "2022-08-21 19:45:36 >        pypetl.core.aws.validateSecretEngine(ssh): Validated as ssh!\n",
      "2022-08-21 19:45:36 >     pypetl.core.aws.getSecret(renos-data-bastion, bastion): Done!\n",
      "2022-08-21 19:45:36 >  pypetl.core.aws.getSecretAll(): Done!\n",
      "2022-08-21 19:45:36 >  pypetl.engine.start(): Starting...\n",
      "2022-08-21 19:45:36 >     pypetl.core.connection.startSSHAll(): Starting...\n",
      "2022-08-21 19:45:36 >        pypetl.core.connection.startSSHFromSecret(bastion): Starting...\n",
      "2022-08-21 19:45:36 >           pypetl.core.connection.mergeRemoteAddress(['rds', 'redshift']): Merging multiple remote addresses...\n",
      "2022-08-21 19:45:36 >           pypetl.core.connection.mergeRemoteAddress(['rds', 'redshift']): Merged!\n",
      "2022-08-21 19:45:36 >           pypetl.core.connection.startSSH(ec2-54-251-208-105.ap-southeast-1.compute.amazonaws.com, 22, [('renos-v2-staging-rds.cssnfgwcjwmm.ap-southeast-1.rds.amazonaws.com', 5432), ('renos-wh.ciju13xeq9ht.ap-southeast-1.redshift.amazonaws.com', 5439)]): Starting...\n",
      "2022-08-21 19:45:36 >              pypetl.core.connection.generateTunnelForwarder(ec2-54-251-208-105.ap-southeast-1.compute.amazonaws.com, 22, [('renos-v2-staging-rds.cssnfgwcjwmm.ap-southeast-1.rds.amazonaws.com', 5432), ('renos-wh.ciju13xeq9ht.ap-southeast-1.redshift.amazonaws.com', 5439)]): Generating SSH tunnel forwarder...\n",
      "2022-08-21 19:45:36 >                 pypetl.core.connection.generateRSAKey(): Generating RSA key...\n",
      "2022-08-21 19:45:36 >                 pypetl.core.connection.generateRSAKey(): Generated!\n",
      "2022-08-21 19:45:36 >              pypetl.core.connection.generateTunnelForwarder(ec2-54-251-208-105.ap-southeast-1.compute.amazonaws.com, 22, [('renos-v2-staging-rds.cssnfgwcjwmm.ap-southeast-1.rds.amazonaws.com', 5432), ('renos-wh.ciju13xeq9ht.ap-southeast-1.redshift.amazonaws.com', 5439)]): Generated!\n",
      "2022-08-21 19:45:45 >           pypetl.core.connection.startSSH(ec2-54-251-208-105.ap-southeast-1.compute.amazonaws.com, 22, [('renos-v2-staging-rds.cssnfgwcjwmm.ap-southeast-1.rds.amazonaws.com', 5432), ('renos-wh.ciju13xeq9ht.ap-southeast-1.redshift.amazonaws.com', 5439)]): Started!\n",
      "2022-08-21 19:45:45 >           pypetl.core.connection.extractLocalAddress(): Extracting binded local addresses...\n",
      "2022-08-21 19:45:45 >           pypetl.core.connection.extractLocalAddress(): Extracted!\n",
      "2022-08-21 19:45:45 >        pypetl.core.connection.startSSHFromSecret(bastion): Started!\n",
      "2022-08-21 19:45:45 >     pypetl.core.connection.startSSHAll(): Started!\n",
      "2022-08-21 19:45:45 >     pypetl.core.connection.startDBAll(): Starting...\n",
      "2022-08-21 19:45:45 >        pypetl.core.connection.startDBFromSecret(rds): Starting...\n",
      "2022-08-21 19:45:45 >           pypetl.core.connection.startDB(postgres, 0.0.0.0, 46567, renosdb): Starting database session...\n",
      "2022-08-21 19:45:45 >           pypetl.core.connection.startDB(postgres, 0.0.0.0, 46567, renosdb): Started!\n",
      "2022-08-21 19:45:45 >        pypetl.core.connection.startDBFromSecret(rds): Started!\n",
      "2022-08-21 19:45:45 >        pypetl.core.connection.startDBFromSecret(redshift): Starting...\n",
      "2022-08-21 19:45:45 >           pypetl.core.connection.startDB(redshift, 0.0.0.0, 36031, renoswh_dev): Starting database session...\n",
      "2022-08-21 19:45:46 >           pypetl.core.connection.startDB(redshift, 0.0.0.0, 36031, renoswh_dev): Started!\n",
      "2022-08-21 19:45:46 >        pypetl.core.connection.startDBFromSecret(redshift): Started!\n",
      "2022-08-21 19:45:46 >     pypetl.core.connection.startDBAll(): Starting...\n",
      "2022-08-21 19:45:46 >  pypetl.engine.start(): Started!\n"
     ]
    }
   ],
   "source": [
    "import pypetl    "
   ]
  },
  {
   "cell_type": "code",
   "execution_count": 24,
   "metadata": {},
   "outputs": [
    {
     "name": "stdout",
     "output_type": "stream",
     "text": [
      "{'1': 'D', '2': 'E', '3': 'C'}\n"
     ]
    }
   ],
   "source": [
    "data = pypetl.fromDBSecret('redshift', 'sele')"
   ]
  },
  {
   "cell_type": "code",
   "execution_count": null,
   "metadata": {},
   "outputs": [],
   "source": [
    "pypetl.engine.stop()"
   ]
  }
 ],
 "metadata": {
  "kernelspec": {
   "display_name": "Python 3.9.2 64-bit",
   "language": "python",
   "name": "python3"
  },
  "language_info": {
   "codemirror_mode": {
    "name": "ipython",
    "version": 3
   },
   "file_extension": ".py",
   "mimetype": "text/x-python",
   "name": "python",
   "nbconvert_exporter": "python",
   "pygments_lexer": "ipython3",
   "version": "3.8.10"
  },
  "orig_nbformat": 4,
  "vscode": {
   "interpreter": {
    "hash": "916dbcbb3f70747c44a77c7bcd40155683ae19c65e1c03b4aa3499c5328201f1"
   }
  }
 },
 "nbformat": 4,
 "nbformat_minor": 2
}
